{
 "cells": [
  {
   "cell_type": "markdown",
   "metadata": {},
   "source": [
    "# Lab Exercises\n",
    "\n",
    "## Introduction to Python, Part 2\n",
    "\n",
    "### Questions/Office Hours\n",
    "\n",
    "If you have questions about this week's lab **ANY** TA for this class can help you with any problems in office hours. That being said, if you need help over email it is best to email **YOUR** TA.\n",
    "\n",
    "You can also always ask the instructor for help with skills labs (even though they are not covered in lecture). You can email the instructor of come to his office hours."
   ]
  },
  {
   "cell_type": "markdown",
   "metadata": {},
   "source": [
    "----"
   ]
  },
  {
   "cell_type": "markdown",
   "metadata": {},
   "source": [
    "## Exercises\n",
    "\n",
    "As with last week, these exercises are short and primarily drawn from your reading for this week, chapters 4, 5, and 6 of *Python for Everyone*. For your reference:\n",
    "\n",
    "* [Chapter 4: Functions](https://www.py4e.com/html3/04-functions)\n",
    "* [Chapter 5: Iterations](https://www.py4e.com/html3/05-iterations)\n",
    "* [Chapter 6: Strings](https://www.py4e.com/html3/06-strings)\n",
    "\n",
    "Before you begin, a reminder to use [Read-Search-Ask](https://medium.freecodecamp.org/read-search-dont-be-afraid-to-ask-743a23c411b4) if you get stuck. *Bonne chance!*\n",
    "\n",
    "![](https://media.giphy.com/media/SmFXBM4HuN344/giphy.gif)"
   ]
  },
  {
   "cell_type": "markdown",
   "metadata": {},
   "source": [
    "----"
   ]
  },
  {
   "cell_type": "markdown",
   "metadata": {},
   "source": [
    "#### **Exercise 1**\n",
    "\n",
    "###### sections to reference: [4.6](https://www.py4e.com/html3/04-functions#adding-new-functions)\n",
    "\n",
    "Tell me, in your own words, what the `def` keyword does. You don't need to write an essay, just a sentence or two will do."
   ]
  },
  {
   "cell_type": "markdown",
   "metadata": {},
   "source": [
    "I believe that the 'def' keyword defines the function. The reason it must be typed is so that the user knows what exactly is being defined and what is not. It's also the function so it helps explicitly show that.\n",
    "\n"
   ]
  },
  {
   "cell_type": "markdown",
   "metadata": {},
   "source": [
    "#### **Exercise 2**\n",
    "\n",
    "###### sections to reference: [4.1](https://www.py4e.com/html3/04-functions#function-calls), last week's lab\n",
    "\n",
    "What Python **function calls** have you used before in this class? Make a Markdown list of them, and for each one, list the function *name*, the *argument* (or arguments) of the function, and what the *result* is.\n",
    "\n",
    "Now, go to [this Python documentation page](https://docs.python.org/3/library/functions.html). Pick one of the functions in the table at the top, and **tell me** the function name, argument or arguments, and what its result is. You can jump to a description of the function by clicking on it in the table."
   ]
  },
  {
   "cell_type": "markdown",
   "metadata": {},
   "source": [
    "# Pyhton Function Calls that I have seen:\n",
    "\n",
    "* type() - int, str, float, bool -> returns what variable type of object.\n",
    "* print() - int, str, float, bool -> prints out object.\n",
    "* int() - int -> an integer type whole number.\n",
    "* float() - float -> a decimal value number.\n",
    "* str() - str -> a string value that consists of just letters.\n",
    "* bool() - bool -> returns 'true' or 'false'.\n",
    "\n"
   ]
  },
  {
   "cell_type": "markdown",
   "metadata": {},
   "source": [
    "* oct () - int -> convert an integer number to an octal string prefixed with \"0o\""
   ]
  },
  {
   "cell_type": "markdown",
   "metadata": {},
   "source": [
    "#### **Exercise 3**\n",
    "\n",
    "###### sections to reference: [4.7](https://www.py4e.com/html3/04-functions#definitions-and-uses), [4.8](https://www.py4e.com/html3/04-functions#flow-of-execution)\n",
    "\n",
    "Look at the code block below. Write down your prediction for what it's going to print out. Then, run it! Was your prediction correct? Tell me yes or no, and if no, tell me why not."
   ]
  },
  {
   "cell_type": "code",
   "execution_count": 1,
   "metadata": {},
   "outputs": [
    {
     "name": "stdout",
     "output_type": "stream",
     "text": [
      "Foo\n",
      "Bar\n",
      "Foo\n",
      "Foo\n",
      "Bar\n"
     ]
    }
   ],
   "source": [
    "def apples():\n",
    "    print(\"Foo\")\n",
    "\n",
    "def bananas():\n",
    "    print(\"Bar\")\n",
    "\n",
    "def pineapples():\n",
    "    apples()\n",
    "    bananas()\n",
    "\n",
    "apples()\n",
    "bananas()\n",
    "apples()\n",
    "pineapples()"
   ]
  },
  {
   "cell_type": "markdown",
   "metadata": {},
   "source": [
    "I predict the code will say \"FooBarFooFooBar\". \n",
    "My prediction was correct."
   ]
  },
  {
   "cell_type": "markdown",
   "metadata": {},
   "source": [
    "#### **Exercise 4**\n",
    "\n",
    "###### sections to reference: [4.4](https://www.py4e.com/html3/04-functions#math-functions), [4.5](https://www.py4e.com/html3/04-functions#random-numbers)\n",
    "\n",
    "You're going to write a program that gives a user a certain number of random integers between a specified upper and lower bound. So, you need to **ask the user** for three things: \n",
    "\n",
    "1. how many integers they want\n",
    "2. the lower bound (the number that all of your random integers should be *bigger than*), and\n",
    "3. the upper bound (the number that all of your random integers should be *smaller than*)\n",
    "\n",
    "After you ask the user for those things, you want to **generate integers** between those bounds, so each of your integers should fit the following formula:\n",
    "\n",
    "$$lower\\_bound \\leq your\\_integer \\leq upper\\_bound$$\n",
    "\n",
    "You don't have to worry about duplicates or anything, so the best way to do it is to **print each integer** as you generate it. \n",
    "\n",
    "**HINT:** You generate random integers with the `random.randint()` function, so what package do you have to *import* to use that function?"
   ]
  },
  {
   "cell_type": "code",
   "execution_count": 2,
   "metadata": {},
   "outputs": [
    {
     "name": "stdin",
     "output_type": "stream",
     "text": [
      "How many integers do you want? 10\n"
     ]
    },
    {
     "name": "stdout",
     "output_type": "stream",
     "text": [
      "10\n"
     ]
    },
    {
     "name": "stdin",
     "output_type": "stream",
     "text": [
      "What integer do you want as your lower bound? 1\n"
     ]
    },
    {
     "name": "stdout",
     "output_type": "stream",
     "text": [
      "1\n"
     ]
    },
    {
     "name": "stdin",
     "output_type": "stream",
     "text": [
      "What integer do you want as your lower bound? 20\n"
     ]
    },
    {
     "name": "stdout",
     "output_type": "stream",
     "text": [
      "20\n",
      "18\n",
      "13\n",
      "16\n",
      "10\n",
      "6\n",
      "14\n",
      "9\n",
      "4\n",
      "3\n",
      "4\n"
     ]
    }
   ],
   "source": [
    "import random\n",
    "\n",
    "t = 0\n",
    "t = int(t)\n",
    "integer = input(\"How many integers do you want?\")\n",
    "integer = int(integer)\n",
    "print(integer)\n",
    "\n",
    "\n",
    "lBound = input(\"What integer do you want as your lower bound?\")\n",
    "lBound = int(lBound)\n",
    "print(lBound)\n",
    "\n",
    "uBound = input(\"What integer do you want as your lower bound?\")\n",
    "uBound = int(uBound)\n",
    "print(uBound)\n",
    "\n",
    "\n",
    "while t < integer:\n",
    "    print(random.randint(lBound, uBound))\n",
    "    t = t + 1\n",
    "\n",
    "\n",
    "\n",
    "\n"
   ]
  },
  {
   "cell_type": "markdown",
   "metadata": {},
   "source": [
    "#### **Exercise 5**\n",
    "\n",
    "###### sections to reference: [5.5](https://www.py4e.com/html3/05-iterations#definite-loops-using-for)\n",
    "\n",
    "Write a program that wishes a happy fall to a list of your friends. Declare a list of names, and add as many names as you want. Then, using a for loop, print out the message \"Happy fall,\" and each name on the list. "
   ]
  },
  {
   "cell_type": "code",
   "execution_count": 4,
   "metadata": {},
   "outputs": [
    {
     "name": "stdout",
     "output_type": "stream",
     "text": [
      "Happy fall, Chris!\n",
      "Happy fall, Peter!\n",
      "Happy fall, Lois!\n",
      "Happy fall, Brian!\n",
      "Happy fall, Stewie!\n",
      "Happy fall, Meg!\n"
     ]
    }
   ],
   "source": [
    "my_friends = [\"Chris\", \"Peter\", \"Lois\", \"Brian\", \"Stewie\", \"Meg\"]\n",
    "\n",
    "for friend in my_friends:\n",
    "    print(\"Happy fall, \" + friend + \"!\")\n",
    "    "
   ]
  },
  {
   "cell_type": "markdown",
   "metadata": {},
   "source": [
    "#### **Exercise 6**\n",
    "\n",
    "###### sections to reference: [5.3](https://www.py4e.com/html3/05-iterations#infinite-loops), [5.7](https://www.py4e.com/html3/05-iterations#counting-and-summing-loops)\n",
    "\n",
    "Write a program that **lets the user enter** as many integers as they want. When any input that's not an integer is entered, the user is done entering integers. After they're done, print out the **average** of all the integers entered.\n",
    "\n",
    "Be sure to test this with a wide range of numbers, to make sure it's doing what you want it to."
   ]
  },
  {
   "cell_type": "code",
   "execution_count": 2,
   "metadata": {},
   "outputs": [
    {
     "name": "stdin",
     "output_type": "stream",
     "text": [
      "Enter number\n",
      " 2\n",
      "Enter number\n",
      " 9\n",
      "Enter number\n",
      " 5\n",
      "Enter number\n",
      " 3\n",
      "Enter number\n",
      " 2\n",
      "Enter number\n",
      " done\n"
     ]
    },
    {
     "name": "stdout",
     "output_type": "stream",
     "text": [
      "Count: 5\n",
      "Total: 21.0\n",
      "Avg: 4.2\n"
     ]
    }
   ],
   "source": [
    "count = 0\n",
    "total = 0\n",
    "average = 0 \n",
    "while True:\n",
    "        numlist = input('Enter number\\n')\n",
    "        if numlist == 'done':\n",
    "                break\n",
    "        try:\n",
    "                count = count + 1\n",
    "                total = total + float(numlist)\n",
    "        except:\n",
    "                count = count - 1\n",
    "                print ('Enter a valid number')\n",
    "                continue\n",
    "average = float(total)/float(count) \n",
    "print ('Count:',count)\n",
    "print ('Total:',total)\n",
    "print ('Avg:',average)\n",
    "\n",
    "\n",
    "    \n",
    "\n",
    "\n"
   ]
  },
  {
   "cell_type": "markdown",
   "metadata": {},
   "source": [
    "#### **Exercise 7**\n",
    "\n",
    "###### sections to reference: [6.3](https://www.py4e.com/html3/06-strings#traversal-through-a-string-with-a-loop), [6.6](https://www.py4e.com/html3/06-strings#looping-and-counting)\n",
    "\n",
    "Write a program that lets a user **enter a string**, and have your program **how many** vowels and consonants are in the word. ('Y' is always a vowel.)\n",
    "\n",
    "Don't worry about making this run infinitely, you don't have to process more than one word per run of the program. Also, you're going to want to convert the string to all lower-case before you do any comparisons to it. \n",
    "\n",
    "Finally, once you have the number of vowels, you don't have to loop through the word *again* to test for consonants. How can you find the number of consonants in a word with just the number of vowels?"
   ]
  },
  {
   "cell_type": "code",
   "execution_count": 10,
   "metadata": {},
   "outputs": [
    {
     "name": "stdin",
     "output_type": "stream",
     "text": [
      "Enter a string banana\n"
     ]
    },
    {
     "name": "stdout",
     "output_type": "stream",
     "text": [
      "Vowels:  3\n",
      "Consonants:  3\n"
     ]
    }
   ],
   "source": [
    "word = input(\"Enter a string\")\n",
    "vowels = 0\n",
    "consonants = 0\n",
    "\n",
    "for letter in word:\n",
    "    if letter == 'a' and 'e' and 'i' and 'o' and 'u' and 'y' and 'A' and 'E' and 'I' and 'O' and 'U':\n",
    "        vowels = vowels + 1\n",
    "    if letter != 'a' and 'e' and 'i' and 'o' and 'u' and 'y' and 'A' and 'E' and 'I' and 'O' and 'U':\n",
    "        consonants = consonants + 1\n",
    "print ('Vowels: ', vowels)\n",
    "print ('Consonants: ', consonants)"
   ]
  },
  {
   "cell_type": "markdown",
   "metadata": {},
   "source": [
    "#### **Exercise 8**\n",
    "\n",
    "###### sections to reference: [6.9](https://www.py4e.com/html3/06-strings#string-methods), Python docs\n",
    "\n",
    "Take a moment and read through the standard string methods that Python provides [here](https://docs.python.org/library/stdtypes.html#string-methods). You should try to keep those methods and what they can do in the back of your mind, as they can come in very handy.\n",
    "\n",
    "Your programming exercise is very open-ended: **write a program** that uses at least three of those string methods. You don't have to take any user input, although you could if you wanted. You don't have to define any functions, although you probably should if your program is doing a lot of different things. \n",
    "\n",
    "The only thing that is required, besides the string methods, is to **comment your code**. Use the `#` character at the end of a line of code, and describe what's going on. That's how you'll be graded on this assignment: how well your comments match up with what your code actually does.\n",
    "\n",
    "Have fun!"
   ]
  },
  {
   "cell_type": "code",
   "execution_count": 4,
   "metadata": {},
   "outputs": [
    {
     "name": "stdout",
     "output_type": "stream",
     "text": [
      "welcome to python\n",
      "hahah\n",
      "True\n"
     ]
    }
   ],
   "source": [
    "#### In this section of my code, I am printing out a welcome not to the user. Although, all caps seems too excited... 'casefold() allows me to put an entire str in lowercase letter'\n",
    "\n",
    "message = 'WELCOME TO PYTHON' #variable 'message' is now the welcome note\n",
    "x = message.casefold() #a new variable 'x' becomes the welcome note , but now casefolded, or lowercase\n",
    "print(x) #print out the new lowercased message\n",
    "\n",
    "\n",
    "h = ['h','h','h'] # h is a list of 3 h str's\n",
    "laugh = 'a'.join(h) # a new variable, 'laugh,' will join the str 'a' to the 'h''s in the h list\n",
    "print(laugh) ## print out laugh variable\n",
    "\n",
    "txt = \"ILoveCodingSoMuch\" # 'txt' represents the variable for the sentence, 'ILoveCodingSoMuch'\n",
    "a = txt.isalpha() # a is assigned txt's sentence, and .isalpha is bool that determines if each character in txt is in the alphabet.\n",
    "print(a) ## here we print a - which is assigned the text from txt - which will return True or False since this is a bool.\n",
    "\n",
    "\n",
    "\n",
    "\n"
   ]
  },
  {
   "cell_type": "markdown",
   "metadata": {},
   "source": [
    "#### **Exercise 9**\n",
    "\n",
    "###### sections to reference: [6.4](https://www.py4e.com/html3/06-strings#string-slices), [6.10](https://www.py4e.com/html3/06-strings#parsing-strings)\n",
    "![jeff](https://media.giphy.com/media/ZLEdByf49a2XK/giphy.gif)\n",
    "\n",
    "Below, I've given you a string from a spam filter. Using string methods, get rid of everything before the colon and the spacing until you have just the number. Then, convert the number into a float, and convert it into a percentage. Print out the percentage"
   ]
  },
  {
   "cell_type": "code",
   "execution_count": 17,
   "metadata": {},
   "outputs": [
    {
     "name": "stdout",
     "output_type": "stream",
     "text": [
      "0.8475\n",
      "84.75 %\n"
     ]
    }
   ],
   "source": [
    "spam_string = 'X-DSPAM-Confidence: 0.8475 '\n",
    "\n",
    "# your code goes here\n",
    "x = (spam_string[20:26])\n",
    "print(x)\n",
    "x = float(x)\n",
    "percent = float(x * 100,)\n",
    "print(percent,'%')"
   ]
  },
  {
   "cell_type": "markdown",
   "metadata": {},
   "source": [
    "#### **Exercise 10 (Extra Credit)**\n",
    "\n",
    "This problem is a tricky one! Thus, we are making it worth extra credit. If you successfully complete this problem, you will get 2 (out of 1) points for this lab. Put another way, you will get 200% for this lab!\n",
    "\n",
    "###### sections to reference: [5.3](https://www.py4e.com/html3/05-iterations#infinite-loops)\n",
    "\n",
    "Remember that program you wrote to compute grades from last week? Well, buckle up, 'cuz we're not done with it yet. Just to refresh your memory, the grading program asked the user for a grade between 0 and 100, and calculated the letter grade based on this scale: \n",
    "\n",
    "Score  | Grade\n",
    "-------|-------\n",
    "93-100 | A\n",
    "85-92  | B\n",
    "74-84  | C\n",
    "63-73  | D\n",
    "≤62    | F\n",
    "\n",
    "Now would be a good time to look back at last week's notebook and see how you implemented that program. My version of it is below; but **you don't have to use my program**. In fact, it'll be better for you if you use code that *you wrote*, because you'll understand it more."
   ]
  },
  {
   "cell_type": "code",
   "execution_count": null,
   "metadata": {},
   "outputs": [],
   "source": [
    "scoreStr = \"Enter a grade between 0 and 100. \"\n",
    "inputErrorStr = \"Invalid input.\"\n",
    "rangeErrorStr = \"Grades must be between 0 and 100.\"\n",
    "\n",
    "score = input(scoreStr) # prompt user for the grade\n",
    "\n",
    "try:\n",
    "    score = int(score) # convert the grade to an integer for comparison\n",
    "    if score > 100 or score < 0: # score out of bounds\n",
    "        print(rangeErrorStr)\n",
    "    elif score >= 93: \n",
    "        print(\"Grade: A\")\n",
    "    elif score >= 85:\n",
    "        print(\"Grade: B\")\n",
    "    elif score >= 74:\n",
    "        print(\"Grade: C\")\n",
    "    elif score >= 63:\n",
    "        print(\"Grade: D\")\n",
    "    else: \n",
    "        print(\"Grade: F\")\n",
    "except:\n",
    "    print(inputErrorStr)"
   ]
  },
  {
   "cell_type": "markdown",
   "metadata": {},
   "source": [
    "You're going to improve this program, using what you learned in chapters 4 and 5. You're going to make three major changes:\n",
    "\n",
    "1. Rewrite the program **using a function** called `computegrade()`. Define that function so that it takes the score (between 0 and 100) as an **argument** and returns the grade as a string.   \n",
    "    You can do the return one of two ways: either the function `computegrade()` can print out the letter grade, or by using a return statement: for example, `return \"A\"`. If you use a return statement, you're going to have to print it out in the main block of your program. That'll look something like this: `print(\"Grade:\", computegrade(score))`  \n",
    "    Using return statements is theoretically the \"better\" way to do this problem, but it is quite a bit more difficult, so consider that a challenge if you want to do it that way. \n",
    "\n",
    "2. Using `try` and `except`, **allow the user** to enter either an int *or* a float for the score. If you've already done that in last week's assignment, congratulations, you're awesome! Pat yourself on the back.  \n",
    "![pat yourself on the back](https://media.giphy.com/media/3oFzmbl7X4uIyj2wrm/giphy.gif)\n",
    "\n",
    "3. Here's the real hard part: you're going to let the user enter as many grades as they want. You're going to want to put the code that asks the user for a grade in an *infinite while loop* so it executes as many times as the user wants.   \n",
    "    If the user enters a number less than 0 or greater than 100, use a `break` statement to quit the loop and exit the program. This means that you're going to want to test whether or not the score entered is between 0 and 100 *before* you call `computegrade(score)`.\n",
    "    \n",
    "This is a tough problem, so take it step by step. Work on the first improvement, and only move to the second once you're completely finished with the first. **Test your program** thoroughly after each step, to make sure you haven't inadvertently changed something you didn't want to. If you get stuck on this problem, skip to the next one and come back to it later. If you're still stuck, come to office hours or shoot me an email."
   ]
  },
  {
   "cell_type": "code",
   "execution_count": null,
   "metadata": {},
   "outputs": [],
   "source": []
  }
 ],
 "metadata": {
  "kernelspec": {
   "display_name": "Python 3",
   "language": "python",
   "name": "python3"
  },
  "language_info": {
   "codemirror_mode": {
    "name": "ipython",
    "version": 3
   },
   "file_extension": ".py",
   "mimetype": "text/x-python",
   "name": "python",
   "nbconvert_exporter": "python",
   "pygments_lexer": "ipython3",
   "version": "3.8.3"
  }
 },
 "nbformat": 4,
 "nbformat_minor": 4
}
